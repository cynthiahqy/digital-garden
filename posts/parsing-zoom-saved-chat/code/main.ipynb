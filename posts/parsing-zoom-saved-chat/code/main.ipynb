{
  "cells": [
    {
      "cell_type": "raw",
      "metadata": {},
      "source": [
        "---\n",
        "title: parsing zoom chat\n",
        "---"
      ]
    },
    {
      "cell_type": "code",
      "metadata": {},
      "source": [
        "# data analysis\n",
        "import pandas as pd\n",
        "from numpy import nan\n",
        "from datetime import datetime, timedelta\n",
        "\n",
        "# string processing\n",
        "import re\n",
        "from io import StringIO\n",
        "from itertools import chain"
      ],
      "execution_count": null,
      "outputs": []
    },
    {
      "cell_type": "code",
      "metadata": {},
      "source": [
        "## import local version chat log\n",
        "with open(\"do-not-track/meeting_saved_chat.txt\", \"r\", encoding=\"utf-8\") as uploaded_file:\n",
        "    string_data = uploaded_file.readlines()"
      ],
      "execution_count": null,
      "outputs": []
    },
    {
      "cell_type": "code",
      "metadata": {},
      "source": [
        "## extract metadata for \"events\" in the chat\n",
        "regex_time = r'\\d{2}:\\d{2}:\\d{2}'\n",
        "r = re.compile(regex_time)\n",
        "\n",
        "events = list(filter(r.match, string_data))\n",
        "events = [line.strip() for line in events]\n",
        "\n",
        "send_time = [r.match(line).group() for line in events]\n",
        "send_from_to = [re.sub(regex_time, \"\", line).strip() for line in events]"
      ],
      "execution_count": null,
      "outputs": []
    },
    {
      "cell_type": "code",
      "metadata": {},
      "source": [
        "## extract message lines for each event\n",
        "n_events = len(events)\n",
        "msgs = [[] for i in range(n_events)]\n",
        "i = -1\n",
        "\n",
        "for (idx, line) in enumerate(string_data):\n",
        "    if not re.match(\"\\t\",line):\n",
        "        i += 1\n",
        "    if re.match(\"\\t\", line):\n",
        "        msgs[i].append(line)\n",
        "\n",
        "## collapse multi-line messages\n",
        "for (idx, item) in enumerate(msgs):\n",
        "    if len(item) != 1:\n",
        "        msgs[idx] = \"\".join(item)"
      ],
      "execution_count": null,
      "outputs": []
    },
    {
      "cell_type": "code",
      "metadata": {},
      "source": [
        "chat_dict = {'time' : send_time, 'message' : msgs, 'sender' : send_from_to}\n",
        "\n",
        "## unnest message column & make sure it doesn't add extra rows\n",
        "chat_df = pd.DataFrame(chat_dict).explode('message')\n",
        "assert(len(events) == chat_df.shape[0])"
      ],
      "execution_count": null,
      "outputs": []
    },
    {
      "cell_type": "code",
      "metadata": {},
      "source": [
        "## save the parsed file\n",
        "chat_df.to_json(\"do-not-track/chat_df.json\", orient = \"records\")\n",
        "chat_df[[\"time\", \"message\"]]"
      ],
      "execution_count": null,
      "outputs": []
    }
  ],
  "metadata": {
    "kernelspec": {
      "name": "python3",
      "language": "python",
      "display_name": "Python 3 (ipykernel)"
    }
  },
  "nbformat": 4,
  "nbformat_minor": 4
}